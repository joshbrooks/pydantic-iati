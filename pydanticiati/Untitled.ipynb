{
 "cells": [
  {
   "cell_type": "code",
   "execution_count": 23,
   "id": "036f8c81-9ddb-413e-951f-00be72fcb4c8",
   "metadata": {},
   "outputs": [],
   "source": [
    "from jinja2 import Environment, FileSystemLoader"
   ]
  },
  {
   "cell_type": "code",
   "execution_count": 24,
   "id": "bce527f3-9d8c-4ea8-91f7-c91f709b729c",
   "metadata": {},
   "outputs": [],
   "source": [
    "env = Environment(\n",
    "    loader=FileSystemLoader('./'),\n",
    ")\n",
    " \n",
    "int_template = env.get_template('templates/codelist.ts.j2')"
   ]
  },
  {
   "cell_type": "code",
   "execution_count": 25,
   "id": "9293dd0e-bc5c-4edc-b5c2-dd8bcc170319",
   "metadata": {},
   "outputs": [],
   "source": [
    "from codelists.models import CodelistItem"
   ]
  },
  {
   "cell_type": "code",
   "execution_count": 26,
   "id": "c6fce00d-edb3-476f-85e7-a284b658b570",
   "metadata": {},
   "outputs": [],
   "source": [
    "from codelists.models import codelists"
   ]
  },
  {
   "cell_type": "code",
   "execution_count": 27,
   "id": "fba265ac-fd3a-4a39-847a-d9f8e0ed82cd",
   "metadata": {},
   "outputs": [],
   "source": [
    "cls = codelists(path=\"/home/josh/github/IATI/IATI-Codelists-NonEmbedded/xml\")"
   ]
  },
  {
   "cell_type": "code",
   "execution_count": 28,
   "id": "809a4741-f42f-44e1-aecc-eaea8e6aadbe",
   "metadata": {},
   "outputs": [
    {
     "data": {
      "text/plain": [
       "dict_keys(['ActivityScope', 'AidType-category', 'AidType', 'AidTypeVocabulary', 'BudgetIdentifier', 'BudgetIdentifierSector-category', 'BudgetIdentifierSector', 'BudgetIdentifierVocabulary', 'BudgetNotProvided', 'CRSAddOtherFlags', 'CashandVoucherModalities', 'CollaborationType', 'ConditionType', 'ContactType', 'Country', 'Currency', 'DescriptionType', 'DisbursementChannel', 'DocumentCategory-category', 'EarmarkingCategory', 'FileFormat', 'FinanceType-category', 'FinanceType', 'FlowType', 'GeographicExactness', 'GeographicLocationClass', 'GeographicLocationReach', 'GeographicVocabulary', 'GeographicalPrecision', 'HumanitarianScopeType', 'HumanitarianScopeVocabulary', 'IndicatorMeasure', 'IndicatorVocabulary', 'Language', 'LoanRepaymentPeriod', 'LoanRepaymentType', 'LocationType-category', 'LocationType', 'OrganisationIdentifier', 'OrganisationRegistrationAgency', 'OrganisationType', 'OtherIdentifierType', 'PolicyMarker', 'PolicyMarkerVocabulary', 'PolicySignificance', 'PublisherType', 'Region', 'RegionVocabulary', 'ResultType', 'ResultVocabulary', 'Sector', 'SectorCategory', 'TiedStatus', 'UNSDG-Goals', 'UNSDG-Targets', 'VerificationStatus', 'Version', 'CRSChannelCode', 'IATIOrganisationIdentifier', 'SectorVocabulary', 'TagVocabulary'])"
      ]
     },
     "execution_count": 28,
     "metadata": {},
     "output_type": "execute_result"
    }
   ],
   "source": [
    "cls.keys()\n"
   ]
  },
  {
   "cell_type": "code",
   "execution_count": 22,
   "id": "de2b03b3-02f8-412a-9013-431809fe109b",
   "metadata": {},
   "outputs": [
    {
     "data": {
      "text/plain": [
       "'en'"
      ]
     },
     "execution_count": 22,
     "metadata": {},
     "output_type": "execute_result"
    }
   ],
   "source": [
    "cls['AidType'].lang"
   ]
  },
  {
   "cell_type": "code",
   "execution_count": null,
   "id": "cca4f8fc-1212-4f41-98ef-df87ae300ed3",
   "metadata": {},
   "outputs": [],
   "source": [
    "int_template"
   ]
  }
 ],
 "metadata": {
  "kernelspec": {
   "display_name": "Python 3",
   "language": "python",
   "name": "python3"
  },
  "language_info": {
   "codemirror_mode": {
    "name": "ipython",
    "version": 3
   },
   "file_extension": ".py",
   "mimetype": "text/x-python",
   "name": "python",
   "nbconvert_exporter": "python",
   "pygments_lexer": "ipython3",
   "version": "3.9.5"
  }
 },
 "nbformat": 4,
 "nbformat_minor": 5
}
